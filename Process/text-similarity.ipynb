{
 "cells": [
  {
   "cell_type": "code",
   "execution_count": 13,
   "metadata": {},
   "outputs": [],
   "source": [
    "from sentence_transformers import SentenceTransformer\n",
    "import numpy as np\n",
    "import faiss\n",
    "import pandas as pd"
   ]
  },
  {
   "cell_type": "code",
   "execution_count": 14,
   "metadata": {},
   "outputs": [],
   "source": [
    "model = SentenceTransformer('all-MiniLM-L6-v2')"
   ]
  },
  {
   "cell_type": "code",
   "execution_count": 17,
   "metadata": {},
   "outputs": [
    {
     "name": "stderr",
     "output_type": "stream",
     "text": [
      "<>:3: SyntaxWarning: invalid escape sequence '\\w'\n",
      "<>:3: SyntaxWarning: invalid escape sequence '\\w'\n",
      "C:\\Users\\ACER\\AppData\\Local\\Temp\\ipykernel_17448\\3381987994.py:3: SyntaxWarning: invalid escape sequence '\\w'\n",
      "  product_name = product_name.str.replace('''[^\\w\\d\\s]''','',regex=True).str.lower()\n"
     ]
    }
   ],
   "source": [
    "product_df = pd.read_csv('C:/Users/ACER/Downloads/Amazon-Products.csv')\n",
    "product_name = product_df['name']\n",
    "product_name = product_name.str.replace('''[^\\w\\d\\s]''','',regex=True).str.lower()\n",
    "product_name = product_name.drop_duplicates()\n",
    "product_name = product_name.str.lower()\n",
    "product_name = product_name.tolist()"
   ]
  },
  {
   "cell_type": "code",
   "execution_count": 4,
   "metadata": {},
   "outputs": [
    {
     "name": "stdout",
     "output_type": "stream",
     "text": [
      "122226\n"
     ]
    }
   ],
   "source": [
    "count = product_df['name'].str.endswith('...', na=False).sum()\n",
    "print(count)"
   ]
  },
  {
   "cell_type": "code",
   "execution_count": 15,
   "metadata": {},
   "outputs": [
    {
     "name": "stdout",
     "output_type": "stream",
     "text": [
      "551585\n"
     ]
    }
   ],
   "source": [
    "print(len(product_df))"
   ]
  },
  {
   "cell_type": "code",
   "execution_count": 9,
   "metadata": {},
   "outputs": [],
   "source": [
    "\n",
    "batch_size = 1000\n",
    "embedding_file = \"../data/embeddings.npy\"\n",
    "num_products = len(product_name)\n",
    "# Generate embeddings in batches and save them\n",
    "all_embeddings = []\n",
    "for i in range(0, num_products, batch_size):\n",
    "    batch_texts = product_name[i:i+batch_size]\n",
    "    batch_embeddings = model.encode(batch_texts).astype('float32')\n",
    "    all_embeddings.append(batch_embeddings)\n",
    "\n",
    "all_embeddings = np.vstack(all_embeddings)\n",
    "np.save(embedding_file, all_embeddings)\n"
   ]
  },
  {
   "cell_type": "code",
   "execution_count": null,
   "metadata": {},
   "outputs": [],
   "source": [
    "all_embeddings = np.load('../model/embeddings.npy')\n",
    "dimension = all_embeddings.shape[1]\n",
    "\n",
    "nlist = 100  \n",
    "quantizer = faiss.IndexFlatL2(dimension) \n",
    "index = faiss.IndexIVFFlat(quantizer, dimension, nlist, faiss.METRIC_L2)\n",
    "\n",
    "index.train(all_embeddings)\n",
    "\n",
    "batch_size = 10000\n",
    "for i in range(0, all_embeddings.shape[0], batch_size):\n",
    "    batch_embeddings = all_embeddings[i:i+batch_size]\n",
    "    index.add(batch_embeddings)\n",
    "    \n",
    "# Save the index to disk\n",
    "faiss.write_index(index, \"../data/large_index.ivf\")"
   ]
  },
  {
   "cell_type": "code",
   "execution_count": 18,
   "metadata": {},
   "outputs": [
    {
     "name": "stdout",
     "output_type": "stream",
     "text": [
      "Query: iphone\n",
      "Result 1:\n",
      "  Text: apple iphone 14 plus 256 gb  blue\n",
      "  Distance: 0.8725134134292603\n",
      "Result 2:\n",
      "  Text: apple iphone 13 256gb  midnight\n",
      "  Distance: 0.8844698667526245\n",
      "Result 3:\n",
      "  Text: apple iphone 13 128gb  midnight\n",
      "  Distance: 0.9230005741119385\n",
      "Result 4:\n",
      "  Text: apple iphone 12 64gb  white\n",
      "  Distance: 0.9341723918914795\n",
      "Result 5:\n",
      "  Text: apple iphone 12 64gb  blue\n",
      "  Distance: 0.9800862073898315\n",
      "Result 6:\n",
      "  Text: apple iphone 12 64gb  black\n",
      "  Distance: 0.9819310903549194\n",
      "Result 7:\n",
      "  Text: apple iphone 14 pro 128 gb  deep purple\n",
      "  Distance: 1.0029823780059814\n",
      "Result 8:\n",
      "  Text: apple iphone 13 256gb  blue\n",
      "  Distance: 1.0047192573547363\n",
      "Result 9:\n",
      "  Text: apple iphone 12 128gb  black\n",
      "  Distance: 1.018121600151062\n",
      "Result 10:\n",
      "  Text: apple iphone 14 128 gb  product red\n",
      "  Distance: 1.0184566974639893\n",
      "Result 11:\n",
      "  Text: apple iphone 13 128gb  blue\n",
      "  Distance: 1.0222928524017334\n",
      "Result 12:\n",
      "  Text: apple iphone 14 pro max 256 gb  deep purple\n",
      "  Distance: 1.0301899909973145\n",
      "Result 13:\n",
      "  Text: apple iphone 14 pro max 128 gb  deep purple\n",
      "  Distance: 1.0708200931549072\n",
      "Result 14:\n",
      "  Text: nokia 125 ds\n",
      "  Distance: 1.073573112487793\n",
      "Result 15:\n",
      "  Text: apple iphone 14 128 gb  yellow\n",
      "  Distance: 1.075361728668213\n",
      "Result 16:\n",
      "  Text: apple iphone 14 pro 256 gb  space black\n",
      "  Distance: 1.0842902660369873\n",
      "Result 17:\n",
      "  Text: nothing phone 1 5g black 256 gb 8 gb ram\n",
      "  Distance: 1.097217321395874\n",
      "Result 18:\n",
      "  Text: nothing phone 1 5g white 256 gb 8 gb ram\n",
      "  Distance: 1.1054039001464844\n",
      "Result 19:\n",
      "  Text: apple iphone 12 128gb  green\n",
      "  Distance: 1.1138427257537842\n",
      "Result 20:\n",
      "  Text: apple iphone 14 pro 128 gb  space black\n",
      "  Distance: 1.1162056922912598\n"
     ]
    }
   ],
   "source": [
    "index = faiss.read_index(\"../model/large_index.ivf\")\n",
    "\n",
    "# Query example\n",
    "query = \"iphone\"\n",
    "query_embedding = model.encode([query]).astype('float32')\n",
    "\n",
    "# Perform similarity search\n",
    "k = 20  # Top 10 results\n",
    "distances, indices = index.search(query_embedding, k)\n",
    "\n",
    "# Display results\n",
    "print(\"Query:\", query)\n",
    "for i in range(k):\n",
    "    print(f\"Result {i+1}:\")\n",
    "    print(f\"  Text: {product_name[indices[0][i]]}\")\n",
    "    print(f\"  Distance: {distances[0][i]}\")"
   ]
  }
 ],
 "metadata": {
  "kernelspec": {
   "display_name": "Python 3",
   "language": "python",
   "name": "python3"
  },
  "language_info": {
   "codemirror_mode": {
    "name": "ipython",
    "version": 3
   },
   "file_extension": ".py",
   "mimetype": "text/x-python",
   "name": "python",
   "nbconvert_exporter": "python",
   "pygments_lexer": "ipython3",
   "version": "3.12.1"
  }
 },
 "nbformat": 4,
 "nbformat_minor": 2
}
