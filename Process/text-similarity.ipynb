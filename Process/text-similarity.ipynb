{
 "cells": [
  {
   "cell_type": "code",
   "execution_count": 3,
   "metadata": {},
   "outputs": [],
   "source": [
    "from sentence_transformers import SentenceTransformer\n",
    "import numpy as np\n",
    "import faiss\n",
    "import pandas as pd"
   ]
  },
  {
   "cell_type": "code",
   "execution_count": 8,
   "metadata": {},
   "outputs": [],
   "source": [
    "model = SentenceTransformer('all-MiniLM-L6-v2')"
   ]
  },
  {
   "cell_type": "code",
   "execution_count": 6,
   "metadata": {},
   "outputs": [],
   "source": [
    "product_df = pd.read_csv('../data/Amazon-Products.csv')\n",
    "product_name = product_df['name'].tolist()"
   ]
  },
  {
   "cell_type": "code",
   "execution_count": null,
   "metadata": {},
   "outputs": [
    {
     "name": "stdout",
     "output_type": "stream",
     "text": [
      "237\n"
     ]
    }
   ],
   "source": [
    "count = product_df['name'].str.endswith('...', na=False).sum()\n",
    "print(count)"
   ]
  },
  {
   "cell_type": "code",
   "execution_count": 15,
   "metadata": {},
   "outputs": [
    {
     "name": "stdout",
     "output_type": "stream",
     "text": [
      "551585\n"
     ]
    }
   ],
   "source": [
    "print(len(product_df))"
   ]
  },
  {
   "cell_type": "code",
   "execution_count": 9,
   "metadata": {},
   "outputs": [],
   "source": [
    "\n",
    "batch_size = 1000\n",
    "embedding_file = \"../data/embeddings.npy\"\n",
    "num_products = len(product_name)\n",
    "# Generate embeddings in batches and save them\n",
    "all_embeddings = []\n",
    "for i in range(0, num_products, batch_size):\n",
    "    batch_texts = product_name[i:i+batch_size]\n",
    "    batch_embeddings = model.encode(batch_texts).astype('float32')\n",
    "    all_embeddings.append(batch_embeddings)\n",
    "\n",
    "all_embeddings = np.vstack(all_embeddings)\n",
    "np.save(embedding_file, all_embeddings)\n"
   ]
  },
  {
   "cell_type": "code",
   "execution_count": 10,
   "metadata": {},
   "outputs": [],
   "source": [
    "all_embeddings = np.load(embedding_file)\n",
    "dimension = all_embeddings.shape[1]\n",
    "\n",
    "nlist = 100  \n",
    "quantizer = faiss.IndexFlatL2(dimension) \n",
    "index = faiss.IndexIVFFlat(quantizer, dimension, nlist, faiss.METRIC_L2)\n",
    "\n",
    "index.train(all_embeddings)\n",
    "\n",
    "batch_size = 10000\n",
    "for i in range(0, all_embeddings.shape[0], batch_size):\n",
    "    batch_embeddings = all_embeddings[i:i+batch_size]\n",
    "    index.add(batch_embeddings)\n",
    "    \n",
    "# Save the index to disk\n",
    "faiss.write_index(index, \"../data/large_index.ivf\")"
   ]
  },
  {
   "cell_type": "code",
   "execution_count": null,
   "metadata": {},
   "outputs": [
    {
     "name": "stdout",
     "output_type": "stream",
     "text": [
      "Query: Apple iPhone 13 (256GB)\n",
      "Result 1:\n",
      "  Text: Apple iPhone 13 (256GB) - Midnight\n",
      "  Distance: 0.39686840772628784\n",
      "Result 2:\n",
      "  Text: Apple iPhone 13 (128GB) - Midnight\n",
      "  Distance: 0.3995439112186432\n",
      "Result 3:\n",
      "  Text: Apple iPhone 13 (256GB) - Blue\n",
      "  Distance: 0.5627175569534302\n",
      "Result 4:\n",
      "  Text: Apple iPhone 13 (128GB) - Blue\n",
      "  Distance: 0.5786620378494263\n",
      "Result 5:\n",
      "  Text: Apple iPhone 13 (128GB) - Blue\n",
      "  Distance: 0.5786620378494263\n",
      "Result 6:\n",
      "  Text: Apple iPhone 14 Plus (256 GB) - Blue\n",
      "  Distance: 0.6229241490364075\n",
      "Result 7:\n",
      "  Text: Apple iPhone 14 Pro (256 GB) - Space Black\n",
      "  Distance: 0.6652202606201172\n",
      "Result 8:\n",
      "  Text: Apple iPhone 14 Pro Max (128 GB) - Space Black\n",
      "  Distance: 0.6759586334228516\n",
      "Result 9:\n",
      "  Text: Apple iPhone 12 (64GB) - Black\n",
      "  Distance: 0.6826392412185669\n",
      "Result 10:\n",
      "  Text: Apple iPhone 14 Pro Max (256 GB) - Deep Purple\n",
      "  Distance: 0.6864816546440125\n",
      "Result 11:\n",
      "  Text: Apple iPhone 12 (128GB) - Black\n",
      "  Distance: 0.6985203623771667\n",
      "Result 12:\n",
      "  Text: Apple iPhone 12 (64GB) - Blue\n",
      "  Distance: 0.6997023820877075\n",
      "Result 13:\n",
      "  Text: Apple iPhone 14 Pro (128 GB) - Space Black\n",
      "  Distance: 0.7031161189079285\n",
      "Result 14:\n",
      "  Text: Apple iPhone 14 Pro Max (128 GB) - Deep Purple\n",
      "  Distance: 0.7110224962234497\n",
      "Result 15:\n",
      "  Text: Apple iPhone 12 (64GB) - White\n",
      "  Distance: 0.7422412633895874\n",
      "Result 16:\n",
      "  Text: Apple iPhone 14 Pro (128 GB) - Deep Purple\n",
      "  Distance: 0.7489660978317261\n",
      "Result 17:\n",
      "  Text: Apple iPhone 14 (128 GB) - Yellow\n",
      "  Distance: 0.7881449460983276\n",
      "Result 18:\n",
      "  Text: Apple iPhone 12 (128GB) - Green\n",
      "  Distance: 0.8078752756118774\n",
      "Result 19:\n",
      "  Text: Samsung Galaxy S23 Ultra 5G (Green, 12GB, 256GB Storage)\n",
      "  Distance: 0.8293984532356262\n",
      "Result 20:\n",
      "  Text: Samsung Galaxy S23 5G (Cream, 8GB, 256GB Storage)\n",
      "  Distance: 0.8331420421600342\n"
     ]
    }
   ],
   "source": [
    "index = faiss.read_index(\"../data/large_index.ivf\")\n",
    "\n",
    "# Query example\n",
    "query = \"Apple iPhone 13 (256GB)\"\n",
    "query_embedding = model.encode([query]).astype('float32')\n",
    "\n",
    "# Perform similarity search\n",
    "k = 20  # Top 10 results\n",
    "distances, indices = index.search(query_embedding, k)\n",
    "\n",
    "# Display results\n",
    "print(\"Query:\", query)\n",
    "for i in range(k):\n",
    "    print(f\"Result {i+1}:\")\n",
    "    print(f\"  Text: {product_name[indices[0][i]]}\")\n",
    "    print(f\"  Distance: {distances[0][i]}\")"
   ]
  }
 ],
 "metadata": {
  "kernelspec": {
   "display_name": "pythonenv",
   "language": "python",
   "name": "python3"
  },
  "language_info": {
   "codemirror_mode": {
    "name": "ipython",
    "version": 3
   },
   "file_extension": ".py",
   "mimetype": "text/x-python",
   "name": "python",
   "nbconvert_exporter": "python",
   "pygments_lexer": "ipython3",
   "version": "3.11.3"
  }
 },
 "nbformat": 4,
 "nbformat_minor": 2
}
